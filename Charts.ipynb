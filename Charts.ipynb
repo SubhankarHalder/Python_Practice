{
 "cells": [
  {
   "cell_type": "markdown",
   "metadata": {},
   "source": [
    "# Bump Charts"
   ]
  },
  {
   "cell_type": "markdown",
   "metadata": {},
   "source": [
    "Rank of \"Profits\" with \"Month\" on the top with \"Region\" in Color \n",
    "\n",
    "- Move \"Year\" (Month) to Column\n",
    "- \"Region\" to color\n",
    "- Calculated Field \"Rank\"\n",
    "- Make \"Rank\" to discrete\n",
    "- Move \"Rank\" to Rows\n",
    "- Change Chart Type to \"Line\"\n",
    "- Edit Table Calculation of \"Rank\"\n",
    "- Compute Using: Advanced\n",
    "- Move \"Month\"(Year) to Addressing\n",
    "- Move \"Month\"(Year) up over Region\n",
    "- Field moved to \"Profit\" and pick \"Descending\"\n",
    "- Restart every \"Month\"(Year)\n"
   ]
  },
  {
   "cell_type": "markdown",
   "metadata": {},
   "source": [
    "# Waterfall Charts (Running Total)"
   ]
  },
  {
   "cell_type": "markdown",
   "metadata": {},
   "source": [
    "\"Product Sub Category\" on Top and Running sum of \"Profit\" on Left\n",
    "\n",
    "- \"Product sub Category\" to Columns\n",
    "- \"Profit\" to row\n",
    "- Quick Table Calculation to Running Total\n",
    "- Mark to Gantt Chart\n",
    "- Create Calculated Field \"-Profit\"\n",
    "- Move\"-Profit\" to Size\n",
    "- Move \"Profit\" to Color\n",
    "- Change color to 2 Steps\n",
    "- In Analysis, click Totals and Grand Row Total"
   ]
  },
  {
   "cell_type": "markdown",
   "metadata": {},
   "source": [
    "# Funnel Charts"
   ]
  },
  {
   "cell_type": "markdown",
   "metadata": {},
   "source": [
    "\"Product Sub Category\" on Side and \"-Profit\" & \"Profit\" on Top\n",
    "\n",
    "- Move \"Profit\" to Column\n",
    "- Move \"Product Category\" to Rows\n",
    "- Change Mark to \"Area\"\n",
    "- Move \"-Profit\" to Column\n",
    "- Click to \"Entire View\"\n",
    "- Click on \"Profit\" in Category\n",
    "- Put \"Product Category\" on Label\n",
    "- Put other features on Label\n"
   ]
  },
  {
   "cell_type": "code",
   "execution_count": null,
   "metadata": {},
   "outputs": [],
   "source": []
  }
 ],
 "metadata": {
  "kernelspec": {
   "display_name": "Python 3",
   "language": "python",
   "name": "python3"
  },
  "language_info": {
   "codemirror_mode": {
    "name": "ipython",
    "version": 3
   },
   "file_extension": ".py",
   "mimetype": "text/x-python",
   "name": "python",
   "nbconvert_exporter": "python",
   "pygments_lexer": "ipython3",
   "version": "3.7.3"
  }
 },
 "nbformat": 4,
 "nbformat_minor": 2
}
